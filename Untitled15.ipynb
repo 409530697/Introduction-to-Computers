{
  "nbformat": 4,
  "nbformat_minor": 0,
  "metadata": {
    "colab": {
      "provenance": [],
      "authorship_tag": "ABX9TyPNX/f+xrJdXeUufHeHD9JM",
      "include_colab_link": true
    },
    "kernelspec": {
      "name": "python3",
      "display_name": "Python 3"
    },
    "language_info": {
      "name": "python"
    }
  },
  "cells": [
    {
      "cell_type": "markdown",
      "metadata": {
        "id": "view-in-github",
        "colab_type": "text"
      },
      "source": [
        "<a href=\"https://colab.research.google.com/github/409530697/Introduction-to-Computers/blob/main/Untitled15.ipynb\" target=\"_parent\"><img src=\"https://colab.research.google.com/assets/colab-badge.svg\" alt=\"Open In Colab\"/></a>"
      ]
    },
    {
      "cell_type": "code",
      "execution_count": 4,
      "metadata": {
        "colab": {
          "base_uri": "https://localhost:8080/"
        },
        "id": "8-n-Te8mI6xF",
        "outputId": "faa8497a-7606-42aa-a39b-25812a5654f4"
      },
      "outputs": [
        {
          "output_type": "stream",
          "name": "stdout",
          "text": [
            "今天會下雨嗎?1\n",
            "請輸入是否下雨\n"
          ]
        }
      ],
      "source": [
        "weather=input(\"今天會下雨嗎?\")\n",
        "if weather ==\"Y\" or weather ==\"y\":\n",
        "  print(\"出門記得帶傘\")\n",
        "elif weather ==\"N\" or weather ==\"n\":\n",
        "  print(\"不用帶傘\")\n",
        "else:\n",
        "  print(\"請輸入是否下雨\")"
      ]
    },
    {
      "cell_type": "code",
      "source": [
        "a=float (input(\"請輸入體溫\"))\n",
        "if a>=37.5:\n",
        "  print(\"體溫過高\")\n",
        "elif  a>=37:\n",
        "  print(\"體溫略高\")\n",
        "elif  a>=34:\n",
        "  print(\"體溫正常\")\n",
        "else:\n",
        "  print(\"體溫異常，請重新量測\")\n",
        "  "
      ],
      "metadata": {
        "colab": {
          "base_uri": "https://localhost:8080/"
        },
        "id": "b0rsUFjzLERo",
        "outputId": "ac5627ee-e624-430d-be08-56e794a46b16"
      },
      "execution_count": 9,
      "outputs": [
        {
          "output_type": "stream",
          "name": "stdout",
          "text": [
            "請輸入體溫30\n",
            "體溫異常，請重新量測\n"
          ]
        }
      ]
    },
    {
      "cell_type": "code",
      "source": [
        "a=int(input(\"請輸入成績\"))\n",
        "if a>=90:\n",
        "  print(\"A\")\n",
        "elif  a>=80:\n",
        "  print(\"B\")\n",
        "elif  a>=70:\n",
        "  print(\"C\")\n",
        "elif  a>=60:\n",
        "  print(\"D\")\n",
        "else:\n",
        "  print(\"E\")"
      ],
      "metadata": {
        "colab": {
          "base_uri": "https://localhost:8080/"
        },
        "id": "XzobnxGbL_5M",
        "outputId": "cd92ebc8-2e85-433a-fa72-33cf40e07990"
      },
      "execution_count": 12,
      "outputs": [
        {
          "output_type": "stream",
          "name": "stdout",
          "text": [
            "請輸入成績0\n",
            "E\n"
          ]
        }
      ]
    },
    {
      "cell_type": "code",
      "source": [
        "a=int(input(\"請輸入一個月份:\"))\n",
        "if a==3 or a==4 or a==5:\n",
        "  print(\"%s是春天\"%a)\n",
        "elif a==6 or a==7 or a==8:\n",
        "  print(\"%s是夏天\"%a)\n",
        "elif a==9 or a==10 or a==11:\n",
        "  print(\"%s是秋天\"%a)\n",
        "elif a==12 or a==1 or a==2:\n",
        "  print(\"%s是冬天\"%a)\n",
        "else:\n",
        "  print(\"月份不在範圍內\")\n"
      ],
      "metadata": {
        "colab": {
          "base_uri": "https://localhost:8080/"
        },
        "id": "qhAp9hOiMtlo",
        "outputId": "ce7113cf-b249-4e1e-b008-2ce693e385b8"
      },
      "execution_count": 21,
      "outputs": [
        {
          "output_type": "stream",
          "name": "stdout",
          "text": [
            "請輸入一個月份:15\n",
            "月份不在範圍內\n"
          ]
        }
      ]
    },
    {
      "cell_type": "code",
      "source": [
        "a=int(input(\"輸入收入淨額:\"))\n",
        "if a>=2000000:\n",
        "  print(\"付稅金額:\",a*0.3)\n",
        "elif a>=1000000:\n",
        "  print(\"付稅金額:\",a*0.21)\n",
        "elif a>=600000:\n",
        "  print(\"付稅金額:\",a*0.13)\n",
        "elif a>=300000:\n",
        "  print(\"付稅金額:\",a*0.06)\n",
        "else:\n",
        "  print(\"付稅金額:\",0)"
      ],
      "metadata": {
        "colab": {
          "base_uri": "https://localhost:8080/"
        },
        "id": "BJIHRLcsNurY",
        "outputId": "9a4ef0f2-1817-4f21-a7db-03e9787c6d7c"
      },
      "execution_count": 26,
      "outputs": [
        {
          "output_type": "stream",
          "name": "stdout",
          "text": [
            "輸入收入淨額:10000\n",
            "付稅金額: 0\n"
          ]
        }
      ]
    }
  ]
}